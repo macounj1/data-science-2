{
 "cells": [
  {
   "cell_type": "markdown",
   "id": "8af8e560",
   "metadata": {},
   "source": [
    "# 3D Convolutions\n",
    "- this notebook shows a simple usage on 3D convolutions as well as running .py scripts in a jupyter notebook\n",
    "- https://ipython.readthedocs.io/en/stable/interactive/magics.html#magic-run"
   ]
  },
  {
   "cell_type": "code",
   "execution_count": null,
   "id": "923b64bb",
   "metadata": {},
   "outputs": [],
   "source": [
    "import numpy as np\n",
    "import matplotlib.pyplot as plt"
   ]
  },
  {
   "cell_type": "markdown",
   "id": "721bd75e",
   "metadata": {},
   "source": [
    "### Check the 3D data"
   ]
  },
  {
   "cell_type": "code",
   "execution_count": null,
   "id": "41ce580f",
   "metadata": {},
   "outputs": [],
   "source": [
    "# Load data\n",
    "df = np.load(\"modelnet20.npz\")\n",
    "data = {}\n",
    "\n",
    "for data_name in [\"train\", \"dev\", \"test\"]:\n",
    "    tmp = dict((key[len(data_name) + 1:], df[key]) for key in df if key.startswith(data_name))\n",
    "    data[data_name] = tmp"
   ]
  },
  {
   "cell_type": "code",
   "execution_count": null,
   "id": "01d4f30b",
   "metadata": {},
   "outputs": [],
   "source": [
    "# Check the shape of the voxels\n",
    "data['train']['voxels'][0].shape"
   ]
  },
  {
   "cell_type": "code",
   "execution_count": null,
   "id": "9d30c937",
   "metadata": {},
   "outputs": [],
   "source": [
    "# Check the values of the voxels\n",
    "np.unique(data['train']['voxels'][0])"
   ]
  },
  {
   "cell_type": "code",
   "execution_count": null,
   "id": "33e51d3d",
   "metadata": {},
   "outputs": [],
   "source": [
    "# Check the classes\n",
    "np.unique(data['train']['labels'])"
   ]
  },
  {
   "cell_type": "code",
   "execution_count": null,
   "id": "cec8357e",
   "metadata": {
    "scrolled": false
   },
   "outputs": [],
   "source": [
    "for i in [79, 78, 80, 83]:\n",
    "    obj = data['train']['voxels'][i][:, :, :, 0]\n",
    "    obj = np.transpose(obj, (2, 1, 0))\n",
    "    fig = plt.figure()\n",
    "    ax = fig.gca(projection='3d')\n",
    "    ax.voxels(obj, facecolors='red')\n",
    "    plt.show()"
   ]
  },
  {
   "cell_type": "markdown",
   "id": "a80ff577",
   "metadata": {},
   "source": [
    "### Run various specifications of the model\n",
    "\n",
    " - layer_type:filters:kernel_size:strides:padding\n",
    " - C:16:3:2:same"
   ]
  },
  {
   "cell_type": "code",
   "execution_count": null,
   "id": "67060fc8",
   "metadata": {
    "scrolled": true
   },
   "outputs": [],
   "source": [
    "%run 3D_script.py \\\n",
    "--cnn=CB:16:3:2:same,M:3:2,F,H:100 \\\n",
    "--epochs=10 --batch_size=64"
   ]
  },
  {
   "cell_type": "code",
   "execution_count": null,
   "id": "4a55d88c",
   "metadata": {
    "scrolled": true
   },
   "outputs": [],
   "source": [
    "%run 3D_script.py \\\n",
    "--cnn=CB:16:3:1:same,M:3:2,CB:16:3:1:same,M:3:2,D:0.5,F,H:50 \\\n",
    "--epochs=5 --batch_size=64"
   ]
  },
  {
   "cell_type": "code",
   "execution_count": null,
   "id": "70984683",
   "metadata": {},
   "outputs": [],
   "source": [
    "%run 3D_script.py \\\n",
    "--cnn=C:16:3:1:same,M:3:2,C:16:3:1:same,M:3:2,D:0.5,F,H:50 \\\n",
    "--epochs=1 --batch_size=64"
   ]
  },
  {
   "cell_type": "code",
   "execution_count": null,
   "id": "2a88f7cb",
   "metadata": {},
   "outputs": [],
   "source": [
    "%run 3D_script.py \\\n",
    "--cnn=C:16:3:1:same,M:3:2,C:16:3:1:same,M:3:2,D:0.5,F,H:50 \\\n",
    "--epochs=1 --batch_size=64"
   ]
  },
  {
   "cell_type": "code",
   "execution_count": null,
   "id": "eddbc4c7",
   "metadata": {},
   "outputs": [],
   "source": [
    "%run 3D_script.py \\\n",
    "--cnn=C:16:3:1:same,M:3:2,C:16:3:1:same,M:3:2,D:0.5,F,H:50 \\\n",
    "--epochs=1 --batch_size=64"
   ]
  },
  {
   "cell_type": "code",
   "execution_count": null,
   "id": "1403c2cf",
   "metadata": {
    "scrolled": true
   },
   "outputs": [],
   "source": [
    "%run 3D_script.py \\\n",
    "--cnn=C:16:3:1:same,M:3:2,C:16:3:1:same,M:3:2,D:0.5,F,H:50 \\\n",
    "--epochs=1 --batch_size=64"
   ]
  },
  {
   "cell_type": "markdown",
   "id": "d0f44c19",
   "metadata": {},
   "source": [
    "<span style=\"color:red\">**TO DO:** Try you own configurations</span>\n",
    " - compare peformance of the same model with and without Batch Normalization\n",
    " - compare perfomance of the same model with and without Dropout on the last layer\n",
    " - compare performance of the same model with and without the data augmentation "
   ]
  }
 ],
 "metadata": {
  "kernelspec": {
   "display_name": "Python 3",
   "language": "python",
   "name": "python3"
  },
  "language_info": {
   "codemirror_mode": {
    "name": "ipython",
    "version": 3
   },
   "file_extension": ".py",
   "mimetype": "text/x-python",
   "name": "python",
   "nbconvert_exporter": "python",
   "pygments_lexer": "ipython3",
   "version": "3.8.3"
  },
  "toc": {
   "base_numbering": 1,
   "nav_menu": {},
   "number_sections": true,
   "sideBar": true,
   "skip_h1_title": false,
   "title_cell": "Table of Contents",
   "title_sidebar": "Contents",
   "toc_cell": false,
   "toc_position": {},
   "toc_section_display": true,
   "toc_window_display": false
  }
 },
 "nbformat": 4,
 "nbformat_minor": 5
}
