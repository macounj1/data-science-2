{
 "cells": [
  {
   "cell_type": "markdown",
   "id": "8af8e560",
   "metadata": {},
   "source": [
    "# Hyperparameter optimization\n",
    "- this notebook shows basic libraries and procedures used for hyperparameter optimization"
   ]
  },
  {
   "cell_type": "markdown",
   "id": "acecc026",
   "metadata": {},
   "source": [
    "# Import packages"
   ]
  },
  {
   "cell_type": "code",
   "execution_count": null,
   "id": "f87ed611",
   "metadata": {
    "ExecuteTime": {
     "end_time": "2021-07-14T10:24:48.325637Z",
     "start_time": "2021-07-14T10:24:41.801153Z"
    }
   },
   "outputs": [],
   "source": [
    "import numpy as np\n",
    "import pandas as pd\n",
    "import matplotlib.pyplot as plt"
   ]
  },
  {
   "cell_type": "code",
   "execution_count": null,
   "id": "782bd4ac",
   "metadata": {
    "ExecuteTime": {
     "end_time": "2021-07-14T10:24:48.371639Z",
     "start_time": "2021-07-14T10:24:48.357597Z"
    }
   },
   "outputs": [],
   "source": [
    "RANDOM_STATE = 12"
   ]
  },
  {
   "cell_type": "markdown",
   "id": "7e8e8cf9",
   "metadata": {},
   "source": [
    "# Create dataset for binary classification\n",
    "- function `make_classification` from sklearn.datasets allows to create dataset for multiclass classification problem. Inside several features are predictive, some features can be correlated and some features are uninformative with respect to target.\n",
    "- through function parameters we can control number of predictive features, number of target classes and other characteristics of the sample"
   ]
  },
  {
   "cell_type": "code",
   "execution_count": null,
   "id": "73ffb06e",
   "metadata": {
    "ExecuteTime": {
     "end_time": "2021-07-14T10:24:59.144172Z",
     "start_time": "2021-07-14T10:24:50.262716Z"
    }
   },
   "outputs": [],
   "source": [
    "from sklearn.datasets import make_classification"
   ]
  },
  {
   "cell_type": "code",
   "execution_count": null,
   "id": "cd2c36d7",
   "metadata": {
    "ExecuteTime": {
     "end_time": "2021-07-14T10:24:59.799959Z",
     "start_time": "2021-07-14T10:24:59.176913Z"
    }
   },
   "outputs": [],
   "source": [
    "X, y = make_classification(\n",
    "    n_samples=100000, \n",
    "    n_features=15, \n",
    "    n_informative=2, \n",
    "    n_redundant=2, \n",
    "    n_repeated=0,\n",
    "    n_classes=2,\n",
    "    flip_y=0.1,\n",
    "    random_state=RANDOM_STATE\n",
    ")"
   ]
  },
  {
   "cell_type": "markdown",
   "id": "d8f5d536",
   "metadata": {},
   "source": [
    "## Split sample\n",
    "It is recommended to use stratification."
   ]
  },
  {
   "cell_type": "code",
   "execution_count": null,
   "id": "3aa26e7e",
   "metadata": {
    "ExecuteTime": {
     "end_time": "2021-07-14T10:25:00.101665Z",
     "start_time": "2021-07-14T10:24:59.833925Z"
    }
   },
   "outputs": [],
   "source": [
    "from sklearn.model_selection import train_test_split"
   ]
  },
  {
   "cell_type": "code",
   "execution_count": null,
   "id": "c37a6506",
   "metadata": {
    "ExecuteTime": {
     "end_time": "2021-07-14T10:25:00.210378Z",
     "start_time": "2021-07-14T10:25:00.133661Z"
    }
   },
   "outputs": [],
   "source": [
    "X_train, X_test, y_train, y_test = train_test_split(\n",
    "    X, y, \n",
    "    test_size=0.5,\n",
    "    random_state=RANDOM_STATE,\n",
    "    stratify=y\n",
    ")"
   ]
  },
  {
   "cell_type": "markdown",
   "id": "82fd4979",
   "metadata": {},
   "source": [
    "# Hyper-parameters optimization\n",
    "Hyper-parameters are parameters not directly learned by estimator. They must be passed to the estimator as its parameters.\n",
    "\n",
    "Search consists of:\n",
    "- estimator\n",
    "- parameter search space\n",
    "- method for searching the space\n",
    "- score function\n",
    "\n",
    "Basic approaches for optimal hyper-parameters selection:\n",
    "    \n",
    "    1. Grid search\n",
    "    2. Randomized grid search\n",
    "    3. Grid search with halving\n",
    "    4. Randomized grid search with halving\n",
    "    \n",
    "**Cross validation** is usually used during hyper-parameters optimization process."
   ]
  },
  {
   "cell_type": "code",
   "execution_count": null,
   "id": "da1d8c1e",
   "metadata": {
    "ExecuteTime": {
     "end_time": "2021-07-14T10:25:01.080506Z",
     "start_time": "2021-07-14T10:25:00.242422Z"
    }
   },
   "outputs": [],
   "source": [
    "from sklearn.tree import DecisionTreeClassifier"
   ]
  },
  {
   "cell_type": "markdown",
   "id": "6fc15cf7",
   "metadata": {},
   "source": [
    "## Grid search\n",
    "Perfoms exhaustive grid search - every combination from search space is evaluated."
   ]
  },
  {
   "cell_type": "code",
   "execution_count": null,
   "id": "26803309",
   "metadata": {
    "ExecuteTime": {
     "end_time": "2021-07-14T10:25:01.126442Z",
     "start_time": "2021-07-14T10:25:01.111442Z"
    }
   },
   "outputs": [],
   "source": [
    "from sklearn.model_selection import GridSearchCV"
   ]
  },
  {
   "cell_type": "code",
   "execution_count": null,
   "id": "dad1385e",
   "metadata": {
    "ExecuteTime": {
     "end_time": "2021-07-14T10:25:12.752714Z",
     "start_time": "2021-07-14T10:25:01.158214Z"
    }
   },
   "outputs": [],
   "source": [
    "params_grid = [\n",
    "    {'max_depth': [2, 4, 8, 16], 'criterion': ['gini', 'entropy']},\n",
    "#     {'min_samples_split': [100, 1000, 10000], 'ccp_alpha': [0.0, 0.0001, 0.00025]},\n",
    "]\n",
    "\n",
    "tree = DecisionTreeClassifier(random_state=RANDOM_STATE)\n",
    "\n",
    "clf = GridSearchCV(\n",
    "    estimator=tree, \n",
    "    param_grid=params_grid, \n",
    "    cv=3,\n",
    "    scoring='roc_auc',\n",
    "    error_score=0,\n",
    "    refit=False\n",
    ")\n",
    "\n",
    "clf.fit(X_train, y_train)"
   ]
  },
  {
   "cell_type": "code",
   "execution_count": null,
   "id": "e4220aab",
   "metadata": {
    "ExecuteTime": {
     "end_time": "2021-07-14T10:25:12.798694Z",
     "start_time": "2021-07-14T10:25:12.785681Z"
    }
   },
   "outputs": [],
   "source": [
    "clf.best_params_"
   ]
  },
  {
   "cell_type": "code",
   "execution_count": null,
   "id": "6348e05f",
   "metadata": {
    "ExecuteTime": {
     "end_time": "2021-07-14T10:25:13.034408Z",
     "start_time": "2021-07-14T10:25:12.832707Z"
    },
    "scrolled": false
   },
   "outputs": [],
   "source": [
    "pd.DataFrame(clf.cv_results_)"
   ]
  },
  {
   "cell_type": "code",
   "execution_count": null,
   "id": "2ccc5d2f",
   "metadata": {
    "ExecuteTime": {
     "end_time": "2021-07-14T10:25:14.208538Z",
     "start_time": "2021-07-14T10:25:13.068408Z"
    }
   },
   "outputs": [],
   "source": [
    "param = 'criterion'\n",
    "\n",
    "x = []\n",
    "y = []\n",
    "other_pars = []\n",
    "i = 0\n",
    "for pars in clf.cv_results_['params']:\n",
    "    if param in pars:\n",
    "        x.append(pars[param] or -999)\n",
    "        y.append(clf.cv_results_['mean_test_score'][i])\n",
    "        other_pars.append(', '.join([f'{p}:{v}' for p, v in pars.items() if p != param]))\n",
    "        i += 1\n",
    "\n",
    "encoding = {}\n",
    "j = 1\n",
    "for i in np.unique(x):\n",
    "    encoding[i] = j\n",
    "    j += 1\n",
    "    \n",
    "xe = [encoding[i] for i in x]\n",
    "\n",
    "ax = plt.subplot(1,1,1)\n",
    "for i in range(len(x)):\n",
    "    ax.scatter(xe[i], y[i], label=other_pars[i])\n",
    "\n",
    "ax.legend(bbox_to_anchor=(1.05, 1.02))\n",
    "ax.set_xticks(xe)\n",
    "ax.set_xticklabels(x, rotation = 90, color='gray')\n",
    "ax.set_xlabel(param)\n",
    "ax.set_ylabel('auc')\n",
    "ax.tick_params(axis='y', colors='gray')\n",
    "ax.spines['top'].set_visible(False)\n",
    "ax.spines['right'].set_visible(False)\n",
    "ax.spines['left'].set_color('gray')\n",
    "ax.spines['bottom'].set_color('gray')\n",
    "plt.show()"
   ]
  },
  {
   "cell_type": "markdown",
   "id": "211cfe77",
   "metadata": {},
   "source": [
    "## Randomized grid search\n",
    "Parameter value is selected from a distribution of possible values.\n",
    "\n",
    "- Number of evaluated combinations can be restricted independently on number of parameters and their possible values.\n",
    "- Parameters with low impact do not decrease efficiency."
   ]
  },
  {
   "cell_type": "code",
   "execution_count": null,
   "id": "d468c803",
   "metadata": {
    "ExecuteTime": {
     "end_time": "2021-07-14T10:25:14.255659Z",
     "start_time": "2021-07-14T10:25:14.241538Z"
    }
   },
   "outputs": [],
   "source": [
    "from sklearn.model_selection import RandomizedSearchCV\n",
    "from scipy.stats import loguniform\n",
    "from scipy.stats import expon"
   ]
  },
  {
   "cell_type": "code",
   "execution_count": null,
   "id": "5009fc11",
   "metadata": {
    "ExecuteTime": {
     "end_time": "2021-07-14T10:25:24.570699Z",
     "start_time": "2021-07-14T10:25:14.288589Z"
    }
   },
   "outputs": [],
   "source": [
    "params_dist = [\n",
    "#     {'max_depth': [2, 3, 4, None], 'criterion': ['gini', 'entropy']},\n",
    "    {'min_samples_split': np.unique(np.logspace(1, 4, num=30, dtype=np.int)), 'ccp_alpha': expon(scale=0.00025)},\n",
    "]\n",
    "\n",
    "tree = DecisionTreeClassifier(random_state=RANDOM_STATE, max_depth=8)\n",
    "\n",
    "# Budget is controlled through parameter n_iter\n",
    "clf = RandomizedSearchCV(\n",
    "    estimator=tree, \n",
    "    param_distributions=params_dist, \n",
    "    cv=3,\n",
    "    scoring='roc_auc',\n",
    "    n_iter = 8,\n",
    "    error_score=0,\n",
    "    refit=True,\n",
    "    random_state=RANDOM_STATE\n",
    ")\n",
    "\n",
    "clf.fit(X_train, y_train)"
   ]
  },
  {
   "cell_type": "code",
   "execution_count": null,
   "id": "1a6bd7a7",
   "metadata": {
    "ExecuteTime": {
     "end_time": "2021-07-14T10:25:24.618733Z",
     "start_time": "2021-07-14T10:25:24.604700Z"
    }
   },
   "outputs": [],
   "source": [
    "clf.best_params_"
   ]
  },
  {
   "cell_type": "code",
   "execution_count": null,
   "id": "3a661737",
   "metadata": {
    "ExecuteTime": {
     "end_time": "2021-07-14T10:25:24.681700Z",
     "start_time": "2021-07-14T10:25:24.651698Z"
    }
   },
   "outputs": [],
   "source": [
    "pd.options.display.max_columns = 100\n",
    "pd.DataFrame(clf.cv_results_)"
   ]
  },
  {
   "cell_type": "code",
   "execution_count": null,
   "id": "9e43d020",
   "metadata": {
    "ExecuteTime": {
     "end_time": "2021-07-14T10:25:25.106736Z",
     "start_time": "2021-07-14T10:25:24.715727Z"
    }
   },
   "outputs": [],
   "source": [
    "param = 'min_samples_split'\n",
    "metric = 'roc_auc'\n",
    "\n",
    "x = []\n",
    "y = []\n",
    "other_pars = []\n",
    "i = 0\n",
    "for pars in clf.cv_results_['params']:\n",
    "    if param in pars:\n",
    "        x.append(pars[param] or -999)\n",
    "        y.append(clf.cv_results_[f'mean_test_score'][i])\n",
    "        other_pars.append(', '.join([f'{p}:{v:.2E}' if p=='ccp_alpha' else f'{p}:{v}' for p, v in pars.items() if p != param]))\n",
    "        i += 1\n",
    "\n",
    "encoding = {}\n",
    "j = 1\n",
    "for i in np.unique(x):\n",
    "    encoding[i] = j\n",
    "    j += 1\n",
    "    \n",
    "xe = [encoding[i] for i in x]\n",
    "\n",
    "ax = plt.subplot(1,1,1)\n",
    "for i in range(len(x)):\n",
    "    ax.scatter(xe[i], y[i], label=other_pars[i])\n",
    "\n",
    "ax.legend(bbox_to_anchor=(1.05, 1.02))\n",
    "ax.set_xticks(xe)\n",
    "ax.set_xticklabels(x, rotation = 90, color='gray')\n",
    "ax.set_xlabel(param)\n",
    "ax.set_ylabel(metric)\n",
    "ax.tick_params(axis='y', colors='gray')\n",
    "ax.spines['top'].set_visible(False)\n",
    "ax.spines['right'].set_visible(False)\n",
    "ax.spines['left'].set_color('gray')\n",
    "ax.spines['bottom'].set_color('gray')\n",
    "plt.show()"
   ]
  },
  {
   "cell_type": "markdown",
   "id": "e4b52865",
   "metadata": {},
   "source": [
    "## Randomized grid search with halving\n",
    "Halving allows to optimize resources allocation for optimization process. First, lot of parameters combinations are evaluated using small amount of resources. In next iteration only combinations with biggest potential are considered and evaluated again with more resources.\n",
    "\n",
    "Important parametres of halving process:\n",
    "- resource: Resource to be increased in each iteration. By default resource is number of observations to be used for cross validation. But it can be for instance number of trees to be used in random forest classifier.\n",
    "- n_candidates: Number of parameters combinations to be evaluated in first iteration.\n",
    "- min_resources: Amount of resources to be used in first iteration.\n",
    "- factor: In each iteration resources are multiplied by factor and number of candidetes is divided by factor. If factor = 2 and iteration i uses 1000 observation, then iteration i+1 will use i\\*factor = 2000 observations. Number of candidetes in i+t-th iteration is number of candidates in i-th iteration divided by factor (and with decimal part removed)."
   ]
  },
  {
   "cell_type": "code",
   "execution_count": null,
   "id": "69a94e18",
   "metadata": {
    "ExecuteTime": {
     "end_time": "2021-07-14T10:26:18.065463Z",
     "start_time": "2021-07-14T10:26:17.669701Z"
    }
   },
   "outputs": [],
   "source": [
    "from sklearn.experimental import enable_halving_search_cv\n",
    "from sklearn.model_selection import HalvingRandomSearchCV\n",
    "from scipy.stats import expon"
   ]
  },
  {
   "cell_type": "code",
   "execution_count": null,
   "id": "f3401118",
   "metadata": {
    "ExecuteTime": {
     "end_time": "2021-07-14T10:26:32.366399Z",
     "start_time": "2021-07-14T10:26:18.152317Z"
    }
   },
   "outputs": [],
   "source": [
    "params_dist = [\n",
    "    {\n",
    "        'max_depth': [2, 4, 8, 16], \n",
    "        'criterion': ['gini', 'entropy'],\n",
    "        'min_samples_split': np.unique(np.logspace(1, 4, num=30, dtype=np.int)), \n",
    "        'ccp_alpha': expon(scale=0.00025)\n",
    "    }\n",
    "]\n",
    "\n",
    "tree = DecisionTreeClassifier(random_state=RANDOM_STATE)\n",
    "\n",
    "clf = HalvingRandomSearchCV(\n",
    "    estimator=tree,\n",
    "    param_distributions=params_dist,\n",
    "    n_candidates=50,\n",
    "    factor=2,\n",
    "    resource='n_samples',\n",
    "    min_resources='exhaust',\n",
    "    cv=3,\n",
    "    scoring='roc_auc',\n",
    "    error_score=0,\n",
    "    refit=False,\n",
    "    random_state=RANDOM_STATE\n",
    ")\n",
    "\n",
    "clf.fit(X_train, y_train)"
   ]
  },
  {
   "cell_type": "code",
   "execution_count": null,
   "id": "32844050",
   "metadata": {
    "ExecuteTime": {
     "end_time": "2021-07-14T10:26:32.413393Z",
     "start_time": "2021-07-14T10:26:32.399371Z"
    }
   },
   "outputs": [],
   "source": [
    "clf.best_params_"
   ]
  },
  {
   "cell_type": "code",
   "execution_count": null,
   "id": "1e6fa97d",
   "metadata": {
    "ExecuteTime": {
     "end_time": "2021-07-14T10:26:32.522123Z",
     "start_time": "2021-07-14T10:26:32.445366Z"
    }
   },
   "outputs": [],
   "source": [
    "pd.DataFrame(clf.cv_results_)"
   ]
  },
  {
   "cell_type": "code",
   "execution_count": null,
   "id": "a88e3f06",
   "metadata": {
    "ExecuteTime": {
     "end_time": "2021-07-14T10:26:33.088248Z",
     "start_time": "2021-07-14T10:26:32.554974Z"
    }
   },
   "outputs": [],
   "source": [
    "cvres = pd.DataFrame(clf.cv_results_)\n",
    "param_combs = cvres[cvres['iter'] == 3]['params'].to_list()\n",
    "\n",
    "cvres_res = pd.DataFrame()\n",
    "ax = plt.subplot(1,1,1)\n",
    "for pc in param_combs:\n",
    "    dt = cvres[cvres['params'] == pc]\n",
    "    label = ', '.join([f'{p}:{v:.2E}' if p=='ccp_alpha' else f'{p}:{v}' for p,v in pc.items()])\n",
    "    ax.plot(dt['iter'], dt['mean_test_score'], marker='o', label=label)\n",
    "\n",
    "ax.set_xticks(dt['iter'])\n",
    "ax.set_xticklabels(\n",
    "    cvres[['iter', 'n_resources']].drop_duplicates().apply(lambda row: f'iter: {row[0]}\\n resources: {row[1]}', axis = 1).to_list(), \n",
    "    rotation=90\n",
    ")\n",
    "\n",
    "ax.legend(bbox_to_anchor=(1.05, 1.02))\n",
    "ax.set_ylabel(metric)\n",
    "ax.tick_params(axis='y', colors='gray')\n",
    "ax.spines['top'].set_visible(False)\n",
    "ax.spines['right'].set_visible(False)\n",
    "ax.spines['left'].set_color('gray')\n",
    "ax.spines['bottom'].set_color('gray')\n",
    "plt.show()"
   ]
  },
  {
   "cell_type": "markdown",
   "id": "d13ebe02",
   "metadata": {},
   "source": [
    "## Searching hyperparameters in pipeline "
   ]
  },
  {
   "cell_type": "code",
   "execution_count": null,
   "id": "5c14f6f1",
   "metadata": {
    "ExecuteTime": {
     "end_time": "2021-07-14T10:26:38.624256Z",
     "start_time": "2021-07-14T10:26:38.556080Z"
    }
   },
   "outputs": [],
   "source": [
    "from sklearn.pipeline import Pipeline\n",
    "from sklearn.feature_selection import SelectKBest\n",
    "from sklearn.model_selection import GridSearchCV"
   ]
  },
  {
   "cell_type": "code",
   "execution_count": null,
   "id": "f56171e8",
   "metadata": {
    "ExecuteTime": {
     "end_time": "2021-07-14T10:26:46.292294Z",
     "start_time": "2021-07-14T10:26:39.322192Z"
    }
   },
   "outputs": [],
   "source": [
    "tree = DecisionTreeClassifier(random_state=RANDOM_STATE)\n",
    "\n",
    "pipe = Pipeline([\n",
    "    ('select', SelectKBest()),\n",
    "    ('model', tree)\n",
    "])\n",
    "\n",
    "param_grid = {\n",
    "    'select__k': [5, 10, 15],\n",
    "    'model__max_depth': [2, 4, 6, 8]\n",
    "}\n",
    "\n",
    "search = GridSearchCV(pipe, param_grid, cv=3).fit(X_train, y_train)"
   ]
  },
  {
   "cell_type": "code",
   "execution_count": null,
   "id": "7cba9d96",
   "metadata": {
    "ExecuteTime": {
     "end_time": "2021-07-14T10:26:46.404130Z",
     "start_time": "2021-07-14T10:26:46.391130Z"
    }
   },
   "outputs": [],
   "source": [
    "search.best_params_"
   ]
  },
  {
   "cell_type": "code",
   "execution_count": null,
   "id": "ec334ad9",
   "metadata": {
    "ExecuteTime": {
     "end_time": "2021-07-14T10:26:46.573924Z",
     "start_time": "2021-07-14T10:26:46.532911Z"
    }
   },
   "outputs": [],
   "source": [
    "dt = pd.DataFrame(search.cv_results_)\n",
    "dt"
   ]
  },
  {
   "cell_type": "code",
   "execution_count": null,
   "id": "35046eab",
   "metadata": {
    "ExecuteTime": {
     "end_time": "2021-07-14T10:26:47.027046Z",
     "start_time": "2021-07-14T10:26:46.668891Z"
    }
   },
   "outputs": [],
   "source": [
    "# setup the figure and axes\n",
    "fig = plt.figure(figsize=(10, 10))\n",
    "ax1 = fig.add_subplot(111, projection='3d')\n",
    "\n",
    "_x = [2, 4, 6, 8]\n",
    "_y = [5, 10, 15]\n",
    "_xx, _yy = np.meshgrid(_x, _y)\n",
    "x, y = _xx.ravel(), _yy.ravel()\n",
    "\n",
    "top = dt['mean_test_score']-0.88\n",
    "bottom = np.zeros_like(top)+0.88\n",
    "width = 2\n",
    "depth = 5\n",
    "\n",
    "ax1.bar3d(x, y, bottom, width, depth, top, shade=True)\n",
    "\n",
    "ax1.set_xlabel('max_depth')\n",
    "ax1.set_ylabel('k_best')\n",
    "ax1.set_zlabel('auc')\n",
    "\n",
    "plt.show()"
   ]
  },
  {
   "cell_type": "markdown",
   "id": "01a6196f",
   "metadata": {},
   "source": [
    "## Hyperopt\n",
    "Hyperopt is a library for serial and parallel optimization.\n",
    "\n",
    "To use hyperopt we need to describe:\n",
    "1. The objective function to minimize\n",
    "2. Search space\n",
    "3. Database to be used for storing results \n",
    "4. Search algorithm\n",
    "\n",
    "Unfortunately, documentation is poor for hyperopt library. Some detils may be found at <a href=\"https://github.com/hyperopt/hyperopt/wiki/FMin\" target=\"_top\">hyperopt tutorial</a>."
   ]
  },
  {
   "cell_type": "code",
   "execution_count": null,
   "id": "bbc00445",
   "metadata": {
    "ExecuteTime": {
     "end_time": "2021-07-14T10:26:56.499357Z",
     "start_time": "2021-07-14T10:26:50.332790Z"
    }
   },
   "outputs": [],
   "source": [
    "from hyperopt import fmin, tpe, hp, STATUS_OK, Trials\n",
    "from sklearn.model_selection import cross_val_score"
   ]
  },
  {
   "cell_type": "code",
   "execution_count": null,
   "id": "258e932f",
   "metadata": {
    "ExecuteTime": {
     "end_time": "2021-07-14T10:31:40.971524Z",
     "start_time": "2021-07-14T10:31:16.701532Z"
    }
   },
   "outputs": [],
   "source": [
    "# function to be minimized\n",
    "def objective(params):\n",
    "    tree = DecisionTreeClassifier(\n",
    "        random_state=RANDOM_STATE, \n",
    "        max_depth=params['max_depth'],\n",
    "        ccp_alpha=params['ccp_alpha']\n",
    "    )\n",
    "    scores = cross_val_score(estimator=tree, X=X_train, y=y_train, cv=3, n_jobs=4, scoring='roc_auc')\n",
    "    \n",
    "    return {\n",
    "        'status': STATUS_OK,\n",
    "        'loss': -np.mean(scores),\n",
    "        'std_score': np.std(scores)\n",
    "    }\n",
    "\n",
    "# database for storing results\n",
    "trials = Trials()\n",
    "\n",
    "# space to be searched\n",
    "search_space = {\n",
    "    'max_depth': hp.quniform('max_depth', 1.9,8,1),\n",
    "    'ccp_alpha': hp.uniform('ccp_alpha', 0.0, 0.00025)\n",
    "}\n",
    "\n",
    "# actual minimization\n",
    "best = fmin(\n",
    "    fn=objective,\n",
    "    space=search_space,\n",
    "    algo=tpe.suggest,\n",
    "#     algo=tpe.rand.suggest,\n",
    "    max_evals=50,\n",
    "    trials=trials,\n",
    "    rstate=np.random.RandomState(RANDOM_STATE)\n",
    ")"
   ]
  },
  {
   "cell_type": "code",
   "execution_count": null,
   "id": "5fc53cf9",
   "metadata": {
    "ExecuteTime": {
     "end_time": "2021-07-14T10:31:41.064449Z",
     "start_time": "2021-07-14T10:31:41.050451Z"
    }
   },
   "outputs": [],
   "source": [
    "best"
   ]
  },
  {
   "cell_type": "code",
   "execution_count": null,
   "id": "eedef5f7",
   "metadata": {
    "ExecuteTime": {
     "end_time": "2021-07-14T10:31:41.566448Z",
     "start_time": "2021-07-14T10:31:41.143447Z"
    }
   },
   "outputs": [],
   "source": [
    "import seaborn as sns\n",
    "\n",
    "md = []\n",
    "alpha = []\n",
    "for tr in trials.trials:\n",
    "    md.append(tr['misc']['vals']['max_depth'][0])\n",
    "    alpha.append(tr['misc']['vals']['ccp_alpha'][0])\n",
    "    \n",
    "dt = pd.DataFrame(zip(md, alpha), columns=['max_depth', 'ccp_alpha'])\n",
    "\n",
    "# plt.scatter(best['max_depth'], best['ccp_alpha'], marker='x', color='red')\n",
    "p = sns.jointplot(data=dt, x=\"max_depth\", y=\"ccp_alpha\", kind='kde')\n",
    "p.ax_joint.scatter(best['max_depth'], best['ccp_alpha'], marker='x', color='red', s=100)\n",
    "\n",
    "plt.show()"
   ]
  },
  {
   "cell_type": "code",
   "execution_count": null,
   "id": "1807b355",
   "metadata": {
    "ExecuteTime": {
     "end_time": "2021-07-14T10:31:49.085750Z",
     "start_time": "2021-07-14T10:31:48.529554Z"
    }
   },
   "outputs": [],
   "source": [
    "fig = plt.figure(figsize=(11,5))\n",
    "\n",
    "plt.subplots_adjust(wspace=0.5)\n",
    "plt.subplot(1,2,1)\n",
    "plt.plot(dt.index, dt['max_depth'])\n",
    "plt.xlabel('iteration')\n",
    "plt.ylabel('max_depth')\n",
    "plt.plot(dt.index, dt['max_depth'].rolling(window=7).mean(), ls='--', color='black', lw=2)\n",
    "\n",
    "plt.subplot(1,2,2)\n",
    "plt.plot(dt.index, dt['ccp_alpha'])\n",
    "plt.plot(dt.index, dt['ccp_alpha'].rolling(window=7).mean(), ls='--', color='black', lw=2)\n",
    "plt.xlabel('iteration')\n",
    "plt.ylabel('ccp_alpha')\n",
    "\n",
    "plt.show()"
   ]
  },
  {
   "cell_type": "markdown",
   "id": "adb82cac",
   "metadata": {},
   "source": [
    "## Genetic algorithm"
   ]
  },
  {
   "cell_type": "code",
   "execution_count": null,
   "id": "9773a2f0",
   "metadata": {
    "ExecuteTime": {
     "end_time": "2021-07-14T10:31:50.861805Z",
     "start_time": "2021-07-14T10:31:50.845764Z"
    }
   },
   "outputs": [],
   "source": [
    "from scipy.optimize import differential_evolution\n",
    "from sklearn.model_selection import cross_val_score"
   ]
  },
  {
   "cell_type": "code",
   "execution_count": null,
   "id": "c22089fb",
   "metadata": {
    "ExecuteTime": {
     "end_time": "2021-07-14T10:31:51.205861Z",
     "start_time": "2021-07-14T10:31:51.187781Z"
    }
   },
   "outputs": [],
   "source": [
    "res = []\n",
    "\n",
    "def objective(params, X, y):\n",
    "    ccp_alpha, max_depth = params\n",
    "    max_depth = round(max_depth)\n",
    "    \n",
    "    tree = DecisionTreeClassifier(\n",
    "        random_state=RANDOM_STATE, \n",
    "        max_depth=max_depth, \n",
    "        ccp_alpha=ccp_alpha\n",
    "    )\n",
    "    \n",
    "    scores = cross_val_score(estimator=tree, X=X, y=y, cv=3, n_jobs=4, scoring='roc_auc')\n",
    "    print(f'ccp_alpha: {ccp_alpha:.7f};   max_depth: {max_depth};   mean score: {np.mean(scores):.5f}')\n",
    "    res.append((ccp_alpha, max_depth, np.mean(scores)))\n",
    "    return -np.mean(scores)"
   ]
  },
  {
   "cell_type": "code",
   "execution_count": null,
   "id": "029897e6",
   "metadata": {
    "ExecuteTime": {
     "end_time": "2021-07-14T10:32:21.123066Z",
     "start_time": "2021-07-14T10:31:51.841323Z"
    },
    "scrolled": true
   },
   "outputs": [],
   "source": [
    "ccpalpha_bound = (0.0001, 0.00025)\n",
    "maxdepth_bound = (1, 8)\n",
    "\n",
    "boundaries = [ccpalpha_bound, maxdepth_bound]\n",
    "solver = differential_evolution(\n",
    "    objective,\n",
    "    boundaries,\n",
    "    args=(X_train, y_train),\n",
    "    strategy='best1bin',\n",
    "    maxiter=2,\n",
    "    popsize=15,\n",
    "    mutation=0.5,\n",
    "    recombination=0.7,\n",
    "    tol=0.01,\n",
    "    seed=RANDOM_STATE\n",
    ")"
   ]
  },
  {
   "cell_type": "code",
   "execution_count": null,
   "id": "0d1dfcbf",
   "metadata": {
    "ExecuteTime": {
     "end_time": "2021-07-14T10:32:21.231066Z",
     "start_time": "2021-07-14T10:32:21.218067Z"
    }
   },
   "outputs": [],
   "source": [
    "print('Best parameters:')\n",
    "print('----------------')\n",
    "print(f'ccp_alpha:   {solver.x[0]}')\n",
    "print(f'max_depth:   {round(solver.x[1])}')"
   ]
  },
  {
   "cell_type": "code",
   "execution_count": null,
   "id": "00c7abfa",
   "metadata": {
    "ExecuteTime": {
     "end_time": "2021-07-14T10:32:21.625070Z",
     "start_time": "2021-07-14T10:32:21.311067Z"
    }
   },
   "outputs": [],
   "source": [
    "res = pd.DataFrame(res, columns=['ccp_alpha', 'max_depth', 'mean_score'])\n",
    "\n",
    "fig = plt.figure(figsize=(11,5))\n",
    "plt.subplots_adjust(wspace=0.5)\n",
    "plt.subplot(1,2,1)\n",
    "sns.distplot(res['max_depth'], color='blue')\n",
    "\n",
    "plt.subplot(1,2,2)\n",
    "sns.distplot(res['ccp_alpha'], color='red')\n",
    "\n",
    "plt.show()"
   ]
  },
  {
   "cell_type": "markdown",
   "id": "ee1d1237",
   "metadata": {},
   "source": [
    "<span style=\"color:red\">**TO DO:** Optimize hyperparameters for an xgboost model. Define which parameters to optimize and compare multiple methods</span>"
   ]
  },
  {
   "cell_type": "markdown",
   "id": "019cacc6",
   "metadata": {},
   "source": [
    "# Hyper-parameters optimization with neural networks"
   ]
  },
  {
   "cell_type": "markdown",
   "id": "5cc41c6f",
   "metadata": {},
   "source": [
    "## Prepare data"
   ]
  },
  {
   "cell_type": "code",
   "execution_count": null,
   "id": "9e28d244",
   "metadata": {
    "ExecuteTime": {
     "end_time": "2021-07-14T10:32:49.631029Z",
     "start_time": "2021-07-14T10:32:21.721106Z"
    }
   },
   "outputs": [],
   "source": [
    "import tensorflow as tf\n",
    "import tensorflow_datasets as tfds\n",
    "from tensorflow.keras.wrappers.scikit_learn import KerasClassifier\n",
    "from sklearn.model_selection import GridSearchCV"
   ]
  },
  {
   "cell_type": "code",
   "execution_count": null,
   "id": "344aa385",
   "metadata": {
    "ExecuteTime": {
     "end_time": "2021-07-14T10:32:50.752307Z",
     "start_time": "2021-07-14T10:32:49.739943Z"
    }
   },
   "outputs": [],
   "source": [
    "# Load the mnist data\n",
    "mnist_train, mnist_dev = tfds.load(\n",
    "    \"mnist\",\n",
    "    split=[\"train\", \"test\"],\n",
    "    as_supervised=True, # Include labels\n",
    "    shuffle_files=False # Change to true for training\n",
    ")"
   ]
  },
  {
   "cell_type": "code",
   "execution_count": null,
   "id": "1676c636",
   "metadata": {
    "ExecuteTime": {
     "end_time": "2021-07-14T10:32:51.015566Z",
     "start_time": "2021-07-14T10:32:50.846342Z"
    }
   },
   "outputs": [],
   "source": [
    "# normalize data to interval [0;1]\n",
    "mnist_train = mnist_train.map(lambda x, y: (tf.math.divide(x, 255), y))\n",
    "mnist_dev = mnist_dev.map(lambda x, y: (tf.math.divide(x, 255), y))"
   ]
  },
  {
   "cell_type": "code",
   "execution_count": null,
   "id": "b1aa9522",
   "metadata": {
    "ExecuteTime": {
     "end_time": "2021-07-14T10:32:52.652380Z",
     "start_time": "2021-07-14T10:32:51.112780Z"
    }
   },
   "outputs": [],
   "source": [
    "# plot few data samples\n",
    "plt.figure(figsize=(10, 10))\n",
    "for i, (image, label) in enumerate(mnist_train.take(9)):\n",
    "    ax = plt.subplot(3, 3, i + 1)\n",
    "    plt.imshow(image.numpy())\n",
    "    plt.title(int(label))\n",
    "    plt.axis('off')\n",
    "    plt.plot()"
   ]
  },
  {
   "cell_type": "code",
   "execution_count": null,
   "id": "56c8ff6c",
   "metadata": {
    "ExecuteTime": {
     "end_time": "2021-07-14T10:32:52.762381Z",
     "start_time": "2021-07-14T10:32:52.747414Z"
    }
   },
   "outputs": [],
   "source": [
    "train_ds = mnist_train.cache().batch(64).prefetch(buffer_size=64)\n",
    "validation_ds = mnist_dev.cache().batch(64).prefetch(buffer_size=64)"
   ]
  },
  {
   "cell_type": "markdown",
   "id": "8cfb2e34",
   "metadata": {},
   "source": [
    "## Keras Tuner\n",
    "Documentation: https://keras.io/keras_tuner/"
   ]
  },
  {
   "cell_type": "code",
   "execution_count": null,
   "id": "a775e2c5",
   "metadata": {
    "ExecuteTime": {
     "end_time": "2021-07-14T10:33:23.933952Z",
     "start_time": "2021-07-14T10:33:23.073345Z"
    }
   },
   "outputs": [],
   "source": [
    "import keras_tuner as kt\n",
    "from keras_tuner import RandomSearch"
   ]
  },
  {
   "cell_type": "code",
   "execution_count": null,
   "id": "e8fc43e3",
   "metadata": {
    "ExecuteTime": {
     "end_time": "2021-07-14T10:33:24.417337Z",
     "start_time": "2021-07-14T10:33:24.401337Z"
    }
   },
   "outputs": [],
   "source": [
    "def model_builder(hp):\n",
    "    model = tf.keras.Sequential()\n",
    "    model.add(tf.keras.layers.Flatten(input_shape=(28, 28)))\n",
    "    model.add(tf.keras.layers.Dense(units=32, activation='relu'))\n",
    "    model.add(tf.keras.layers.Dense(units=32, activation='relu'))\n",
    "    model.add(tf.keras.layers.Dense(10))\n",
    "\n",
    "    hp_optimizer = hp.Choice('optimizer', values=['Adam', 'RMSprop', 'SGD', 'Adagrad'])\n",
    "\n",
    "    model.compile(\n",
    "        optimizer=tf.keras.optimizers.get(hp_optimizer),\n",
    "        loss=tf.keras.losses.SparseCategoricalCrossentropy(from_logits=True),\n",
    "        metrics=['accuracy']\n",
    "    )\n",
    "\n",
    "    return model"
   ]
  },
  {
   "cell_type": "code",
   "execution_count": null,
   "id": "f63f3b1a",
   "metadata": {
    "ExecuteTime": {
     "end_time": "2021-07-14T10:33:33.915038Z",
     "start_time": "2021-07-14T10:33:33.402780Z"
    }
   },
   "outputs": [],
   "source": [
    "tuner = RandomSearch(\n",
    "    model_builder,\n",
    "    objective=\"val_accuracy\",\n",
    "    max_trials=6,\n",
    "    overwrite=True,\n",
    "    directory=\"C:/Users/karel/repos/KBC\",\n",
    "    project_name=\"optimizer_opt\",\n",
    "    seed=RANDOM_STATE\n",
    ")"
   ]
  },
  {
   "cell_type": "code",
   "execution_count": null,
   "id": "49e4b612",
   "metadata": {
    "ExecuteTime": {
     "end_time": "2021-07-13T08:00:17.998133Z",
     "start_time": "2021-07-13T08:00:17.988139Z"
    }
   },
   "outputs": [],
   "source": [
    "# stop_early = tf.keras.callbacks.EarlyStopping(monitor='val_loss', patience=2)"
   ]
  },
  {
   "cell_type": "code",
   "execution_count": null,
   "id": "e817a5df",
   "metadata": {
    "ExecuteTime": {
     "end_time": "2021-07-14T10:34:36.566899Z",
     "start_time": "2021-07-14T10:34:08.301182Z"
    }
   },
   "outputs": [],
   "source": [
    "tuner.search(\n",
    "    np.concatenate([x for x, y in train_ds], axis=0), \n",
    "    np.concatenate([y for x, y in train_ds], axis=0), \n",
    "    epochs=2, \n",
    "    validation_split=0.2, \n",
    "#     callbacks=[stop_early]\n",
    ")"
   ]
  },
  {
   "cell_type": "code",
   "execution_count": null,
   "id": "5da3f6d9",
   "metadata": {
    "ExecuteTime": {
     "end_time": "2021-07-14T10:36:18.699515Z",
     "start_time": "2021-07-14T10:36:18.681650Z"
    }
   },
   "outputs": [],
   "source": [
    "tuner.get_best_hyperparameters(num_trials=1)[0].values"
   ]
  },
  {
   "cell_type": "code",
   "execution_count": null,
   "id": "aac4a523",
   "metadata": {
    "ExecuteTime": {
     "end_time": "2021-07-14T10:36:20.656609Z",
     "start_time": "2021-07-14T10:36:20.650648Z"
    }
   },
   "outputs": [],
   "source": [
    "tuner.results_summary()"
   ]
  },
  {
   "cell_type": "markdown",
   "id": "45387a0f",
   "metadata": {},
   "source": [
    "## GridSearchCV with tensorflow"
   ]
  },
  {
   "cell_type": "code",
   "execution_count": null,
   "id": "2ca03281",
   "metadata": {
    "ExecuteTime": {
     "end_time": "2021-07-11T12:51:30.467167Z",
     "start_time": "2021-07-11T12:51:30.447130Z"
    }
   },
   "outputs": [],
   "source": [
    "def create_network(n_layers = 3, neurons_per_layer = 25, hl_activation = 'relu', initializer = 'uniform'):\n",
    "    model = tf.keras.models.Sequential()\n",
    "    \n",
    "    model.add(tf.keras.layers.InputLayer(input_shape=(28,28)))\n",
    "    model.add(tf.keras.layers.Flatten())\n",
    "    for i in range(n_layers):\n",
    "        model.add(tf.keras.layers.Dense(\n",
    "            units=neurons_per_layer, \n",
    "            activation = hl_activation,\n",
    "            kernel_initializer = initializer\n",
    "        ))\n",
    "    model.add(tf.keras.layers.Dense(10, activation=tf.nn.softmax))\n",
    "    \n",
    "    model.compile(\n",
    "        optimizer=tf.optimizers.Adam(),\n",
    "        loss=tf.losses.SparseCategoricalCrossentropy(),\n",
    "        metrics=['accuracy'],\n",
    "    )\n",
    "    \n",
    "    return model"
   ]
  },
  {
   "cell_type": "code",
   "execution_count": null,
   "id": "45ac364d",
   "metadata": {
    "ExecuteTime": {
     "end_time": "2021-07-11T12:52:19.041361Z",
     "start_time": "2021-07-11T12:51:31.176272Z"
    },
    "scrolled": true
   },
   "outputs": [],
   "source": [
    "model = KerasClassifier(\n",
    "    build_fn=create_network, \n",
    "    epochs=5, \n",
    "    batch_size=64, \n",
    "    verbose=1\n",
    ")\n",
    "\n",
    "param_grid = {\n",
    "    'initializer': ['uniform', 'zeros'],\n",
    "    'hl_activation': ['relu', 'sigmoid']\n",
    "}\n",
    "\n",
    "grid = GridSearchCV(estimator=model, param_grid=param_grid, n_jobs=1, cv=2)\n",
    "grid_result = grid.fit(\n",
    "    np.concatenate([x for x, y in train_ds], axis=0), \n",
    "    np.concatenate([y for x, y in train_ds], axis=0),\n",
    ")"
   ]
  },
  {
   "cell_type": "code",
   "execution_count": null,
   "id": "ffad3137",
   "metadata": {},
   "outputs": [],
   "source": [
    "grid_result.best_params_"
   ]
  },
  {
   "cell_type": "code",
   "execution_count": null,
   "id": "f78eb741",
   "metadata": {
    "ExecuteTime": {
     "end_time": "2021-07-11T12:52:19.277203Z",
     "start_time": "2021-07-11T12:52:19.231237Z"
    }
   },
   "outputs": [],
   "source": [
    "grid_result.cv_results_"
   ]
  },
  {
   "cell_type": "markdown",
   "id": "ac8e424e",
   "metadata": {},
   "source": [
    "## Tensorboard"
   ]
  },
  {
   "cell_type": "code",
   "execution_count": null,
   "id": "005c65b7",
   "metadata": {
    "ExecuteTime": {
     "end_time": "2021-07-12T13:18:28.934383Z",
     "start_time": "2021-07-12T13:17:27.309456Z"
    },
    "scrolled": false
   },
   "outputs": [],
   "source": [
    "# use \"tensorboard --logdir logs\" in command line\n",
    "\n",
    "n_layers = 3\n",
    "\n",
    "initializer = ['uniform', 'lecun_uniform']\n",
    "hl_activation = ['relu', 'sigmoid']\n",
    "\n",
    "for init in initializer:\n",
    "    for activ in hl_activation:\n",
    "        model = tf.keras.models.Sequential()\n",
    "\n",
    "        model.add(tf.keras.layers.InputLayer(input_shape=(28,28)))\n",
    "        model.add(tf.keras.layers.Flatten())\n",
    "        for i in range(n_layers):\n",
    "            model.add(tf.keras.layers.Dense(\n",
    "                units=25, \n",
    "                activation = activ,\n",
    "                kernel_initializer = init\n",
    "            ))\n",
    "        model.add(tf.keras.layers.Dense(10, activation=tf.nn.softmax))\n",
    "\n",
    "        model.compile(\n",
    "            optimizer=tf.optimizers.Adam(),\n",
    "            loss=tf.losses.SparseCategoricalCrossentropy(),\n",
    "            metrics=['sparse_categorical_accuracy'],\n",
    "        )\n",
    "\n",
    "        log_dir = f'logs/{init}_{activ}'\n",
    "        tensorboard_callback = tf.keras.callbacks.TensorBoard(log_dir=log_dir, histogram_freq=1)\n",
    "        \n",
    "        model.fit(\n",
    "            np.concatenate([x for x, y in train_ds], axis=0), \n",
    "            np.concatenate([y for x, y in train_ds], axis=0),\n",
    "            epochs=5,\n",
    "            batch_size=64,\n",
    "            callbacks=[tensorboard_callback],\n",
    "            validation_data = validation_ds\n",
    "        )"
   ]
  },
  {
   "cell_type": "markdown",
   "id": "ae64276c",
   "metadata": {},
   "source": [
    "<span style=\"color:red\">**TO DO:** Optimize hyperparameters for a convolutional neural network</span>"
   ]
  }
 ],
 "metadata": {
  "kernelspec": {
   "display_name": "Python 3",
   "language": "python",
   "name": "python3"
  },
  "language_info": {
   "codemirror_mode": {
    "name": "ipython",
    "version": 3
   },
   "file_extension": ".py",
   "mimetype": "text/x-python",
   "name": "python",
   "nbconvert_exporter": "python",
   "pygments_lexer": "ipython3",
   "version": "3.8.3"
  },
  "toc": {
   "base_numbering": 1,
   "nav_menu": {},
   "number_sections": true,
   "sideBar": true,
   "skip_h1_title": false,
   "title_cell": "Table of Contents",
   "title_sidebar": "Contents",
   "toc_cell": false,
   "toc_position": {
    "height": "calc(100% - 180px)",
    "left": "10px",
    "top": "150px",
    "width": "349.078px"
   },
   "toc_section_display": true,
   "toc_window_display": true
  },
  "varInspector": {
   "cols": {
    "lenName": 16,
    "lenType": 16,
    "lenVar": 40
   },
   "kernels_config": {
    "python": {
     "delete_cmd_postfix": "",
     "delete_cmd_prefix": "del ",
     "library": "var_list.py",
     "varRefreshCmd": "print(var_dic_list())"
    },
    "r": {
     "delete_cmd_postfix": ") ",
     "delete_cmd_prefix": "rm(",
     "library": "var_list.r",
     "varRefreshCmd": "cat(var_dic_list()) "
    }
   },
   "types_to_exclude": [
    "module",
    "function",
    "builtin_function_or_method",
    "instance",
    "_Feature"
   ],
   "window_display": false
  }
 },
 "nbformat": 4,
 "nbformat_minor": 5
}
